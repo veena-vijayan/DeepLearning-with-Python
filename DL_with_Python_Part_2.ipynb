{
  "nbformat": 4,
  "nbformat_minor": 0,
  "metadata": {
    "colab": {
      "name": "DL with Python - Part 2.ipynb",
      "provenance": [],
      "collapsed_sections": [],
      "toc_visible": true,
      "authorship_tag": "ABX9TyPR5/a/B6CxpLthyhTmVkwk",
      "include_colab_link": true
    },
    "kernelspec": {
      "name": "python3",
      "display_name": "Python 3"
    }
  },
  "cells": [
    {
      "cell_type": "markdown",
      "metadata": {
        "id": "view-in-github",
        "colab_type": "text"
      },
      "source": [
        "<a href=\"https://colab.research.google.com/github/veena-vijayan/DeepLearning-with-Python/blob/master/DL_with_Python_Part_2.ipynb\" target=\"_parent\"><img src=\"https://colab.research.google.com/assets/colab-badge.svg\" alt=\"Open In Colab\"/></a>"
      ]
    },
    {
      "cell_type": "markdown",
      "metadata": {
        "id": "xJzqdoWhQBsf",
        "colab_type": "text"
      },
      "source": [
        "# **Deep Learning with Python**\n",
        "\n",
        "\n",
        "\n",
        "> Develop Deep Learning Models on Theano and Tensorflow Using Keras - Jason Brownlee\n",
        "\n"
      ]
    },
    {
      "cell_type": "markdown",
      "metadata": {
        "id": "ngFmxStTQjHu",
        "colab_type": "text"
      },
      "source": [
        "\n",
        "\n",
        "---\n",
        "\n",
        "**PART II :: Background**\n",
        "\n",
        "---\n",
        "\n"
      ]
    },
    {
      "cell_type": "markdown",
      "metadata": {
        "colab_type": "text",
        "id": "zGScyPe-cqFP"
      },
      "source": [
        "\n",
        "## **Chapter 2 - Introduction to Theano**\n",
        "\n"
      ]
    },
    {
      "cell_type": "markdown",
      "metadata": {
        "id": "Se2yRoYIS3B3",
        "colab_type": "text"
      },
      "source": [
        "\n",
        "\n",
        "*   python library for fast numerical computation that can be run on the CPU or GPU.\n",
        "*   key foundational library for deep learning in Python that you can use directly to create deep learning models.\n",
        "*   an open source project released under the BSD license and was developed by the LISA group at the University of Montreal, Quebec, Canada.\n",
        "*   compiler for mathematical expressions in Python. \n",
        "*   knows how to take your structures and turn them into very effcient code that uses NumPy, effcient native libraries like BLAS and native code to run as fast as possible on CPUs or GPUs.\n",
        "*   uses a host of clever code optimizations to squeeze as much performance as possible from your hardware.\n",
        "*   was speciffically designed to handle the types of computation required for large neural network algorithms used in deep learning\n",
        "*   install - pip install Theano\n",
        "\n",
        "\n",
        "\n",
        "\n"
      ]
    },
    {
      "cell_type": "code",
      "metadata": {
        "id": "pireI1XbP-j8",
        "colab_type": "code",
        "outputId": "3a6c245b-05cd-4822-b3d2-ddf89271e680",
        "colab": {
          "base_uri": "https://localhost:8080/",
          "height": 105
        }
      },
      "source": [
        "# Example of Theano library\n",
        "import theano\n",
        "from theano import tensor\n",
        "\n",
        "# declare two symbolic floating-point scalars\n",
        "a = tensor.dscalar()\n",
        "b = tensor.dscalar()\n",
        "\n",
        "# create a simple symbolic expression\n",
        "add = a + b\n",
        "sub = a - b\n",
        "mul = a * b\n",
        "div = a / b\n",
        "rem = a % b\n",
        "\n",
        "# convert the expression into a callable object that takes (a,b) and computes c\n",
        "addition = theano.function([a,b], add)\n",
        "subtraction = theano.function([a,b], sub)\n",
        "multiply = theano.function([a,b], mul)\n",
        "division = theano.function([a,b], div)\n",
        "remainder = theano.function([a,b], rem)\n",
        "\n",
        "# bind 1.5 to 'a', 2.5 to 'b', and evaluate 'c'\n",
        "\n",
        "print(\"Addition :: \", addition(1.5, 2.5))\n",
        "print(\"Subtraction :: \", subtraction(1.5, 2.5))\n",
        "print(\"Multiplication :: \", multiply(1.5, 2.5))\n",
        "print(\"Division :: \", division(1.5, 2.5))\n",
        "print(\"Remainder :: \", remainder(1.5, 2.5))"
      ],
      "execution_count": 0,
      "outputs": [
        {
          "output_type": "stream",
          "text": [
            "Addition ::  4.0\n",
            "Subtraction ::  -1.0\n",
            "Multiplication ::  3.75\n",
            "Division ::  0.6\n",
            "Remainder ::  1.5\n"
          ],
          "name": "stdout"
        }
      ]
    },
    {
      "cell_type": "markdown",
      "metadata": {
        "id": "VCWGK2WQUZX6",
        "colab_type": "text"
      },
      "source": [
        "\n",
        "\n",
        "*   you do not have to use Theano directly - encouraged to use one of many popular Python projects that make Theano a lot easier to use for deep learning \n",
        "*   Keras is a wrapper library that hides Theano completely and provides a very simple API to work with to create deep learning models - it hides Theano so well, that it can in fact run as a wrapper for another popular foundation framework called TensorFlow.\n",
        "\n"
      ]
    },
    {
      "cell_type": "markdown",
      "metadata": {
        "id": "xEeODZoJVQUD",
        "colab_type": "text"
      },
      "source": [
        "\n",
        "\n",
        "\n",
        "\n",
        "> Summary\n",
        "\n",
        "\n",
        "\n",
        "In this lesson you discovered the Theano Python library for efficient numerical computation.\n",
        "You learned:\n",
        "\n",
        "\n",
        "1.   Theano is a foundation library used for deep learning research and development.\n",
        "2.   Deep learning models can be developed directly in Theano if desired.\n",
        "3.   The development and evaluation of deep learning models is easier with wrapper libraries like Keras.\n",
        "\n"
      ]
    },
    {
      "cell_type": "markdown",
      "metadata": {
        "colab_type": "text",
        "id": "wrTLvq6yVq_L"
      },
      "source": [
        "\n",
        "## **Chapter 3 - Introduction to TensorFlow**\n",
        "\n"
      ]
    },
    {
      "cell_type": "markdown",
      "metadata": {
        "colab_type": "text",
        "id": "3izSxepvVq_R"
      },
      "source": [
        "\n",
        "\n",
        "*   python library for fast numerical computing created and released by Google. \n",
        "\n",
        "*   foundation library that can be used to create deep learning models directly or by using wrapper libraries that simplify the process built on top of TensorFlow.\n",
        "*   an open source library for fast numerical computing. \n",
        "created and is\n",
        "\n",
        "*   unlike Theano, was designed for use both in research and development and in production systems\n",
        "*   Computation is described in terms of data flow and operations in the structure of a directed graph.\n",
        "    1.   Nodes: perform computation and have zero or more inputs and outputs. Data that moves between nodes are known as tensors, which are multi-dimensional arrays of real values.\n",
        "    2.   Edges: The graph defines the flow of data, branching, looping and updates to state. Special edges can be used to synchronize behavior within the graph, for example waiting for computation on a number of inputs to complete.\n",
        "    3. Operation: An operation is a named abstract computation which can take input attributes and produce output attributes. For example, you could define an add or multiply operation.\n",
        "*   install - pip install Tensorflow\n",
        "\n",
        "\n",
        "\n",
        "\n"
      ]
    },
    {
      "cell_type": "code",
      "metadata": {
        "id": "QPZQfY-FX8fp",
        "colab_type": "code",
        "outputId": "d0258c1d-c29d-489a-a0a7-4f9ba72ed241",
        "colab": {
          "base_uri": "https://localhost:8080/",
          "height": 140
        }
      },
      "source": [
        "# tensorflow version 1.14.0 is used for this\n",
        "!pip install tensorflow==1.14.0"
      ],
      "execution_count": 0,
      "outputs": [
        {
          "output_type": "stream",
          "text": [
            "      Successfully uninstalled tensorflow-2.2.0\n",
            "Successfully installed tensorboard-1.14.0 tensorflow-1.14.0 tensorflow-estimator-1.14.0\n"
          ],
          "name": "stdout"
        },
        {
          "output_type": "display_data",
          "data": {
            "application/vnd.colab-display-data+json": {
              "pip_warning": {
                "packages": [
                  "tensorboard",
                  "tensorflow"
                ]
              }
            }
          },
          "metadata": {
            "tags": []
          }
        }
      ]
    },
    {
      "cell_type": "code",
      "metadata": {
        "id": "QRxiWg15UN8p",
        "colab_type": "code",
        "outputId": "3e62c581-bad2-49fe-eed0-eb0c02d41cd5",
        "colab": {
          "base_uri": "https://localhost:8080/",
          "height": 552
        }
      },
      "source": [
        "# Example of TensorFlow library\n",
        "import tensorflow as tf\n",
        "\n",
        "# declare two symbolic floating-point scalars\n",
        "a = tf.placeholder(tf.float32)\n",
        "b = tf.placeholder(tf.float32)\n",
        "\n",
        "# create a simple symbolic expression using the add function\n",
        "add = tf.add(a, b)\n",
        "sub = tf.subtract(a, b)\n",
        "mul = tf.multiply(a, b)\n",
        "div = tf.divide(a, b)\n",
        "rem = tf.mod(a, b)\n",
        "# subtract = tf.\n",
        "# bind 1.5 to 'a', 2.5 to 'b', and evaluate 'c'\n",
        "sess = tf.Session()\n",
        "binding = {a: 1.5, b: 2.5}\n",
        "\n",
        "print(\"Addition :: \", sess.run(add, feed_dict=binding))\n",
        "print(\"Subtraction :: \", sess.run(sub, feed_dict=binding))\n",
        "print(\"Multiplication :: \", sess.run(mul, feed_dict=binding))\n",
        "print(\"Division :: \", sess.run(div, feed_dict=binding))\n",
        "print(\"Remainder :: \", sess.run(rem, feed_dict=binding))\n"
      ],
      "execution_count": 0,
      "outputs": [
        {
          "output_type": "stream",
          "text": [
            "/usr/local/lib/python3.6/dist-packages/tensorflow/python/framework/dtypes.py:516: FutureWarning: Passing (type, 1) or '1type' as a synonym of type is deprecated; in a future version of numpy, it will be understood as (type, (1,)) / '(1,)type'.\n",
            "  _np_qint8 = np.dtype([(\"qint8\", np.int8, 1)])\n",
            "/usr/local/lib/python3.6/dist-packages/tensorflow/python/framework/dtypes.py:517: FutureWarning: Passing (type, 1) or '1type' as a synonym of type is deprecated; in a future version of numpy, it will be understood as (type, (1,)) / '(1,)type'.\n",
            "  _np_quint8 = np.dtype([(\"quint8\", np.uint8, 1)])\n",
            "/usr/local/lib/python3.6/dist-packages/tensorflow/python/framework/dtypes.py:518: FutureWarning: Passing (type, 1) or '1type' as a synonym of type is deprecated; in a future version of numpy, it will be understood as (type, (1,)) / '(1,)type'.\n",
            "  _np_qint16 = np.dtype([(\"qint16\", np.int16, 1)])\n",
            "/usr/local/lib/python3.6/dist-packages/tensorflow/python/framework/dtypes.py:519: FutureWarning: Passing (type, 1) or '1type' as a synonym of type is deprecated; in a future version of numpy, it will be understood as (type, (1,)) / '(1,)type'.\n",
            "  _np_quint16 = np.dtype([(\"quint16\", np.uint16, 1)])\n",
            "/usr/local/lib/python3.6/dist-packages/tensorflow/python/framework/dtypes.py:520: FutureWarning: Passing (type, 1) or '1type' as a synonym of type is deprecated; in a future version of numpy, it will be understood as (type, (1,)) / '(1,)type'.\n",
            "  _np_qint32 = np.dtype([(\"qint32\", np.int32, 1)])\n",
            "/usr/local/lib/python3.6/dist-packages/tensorflow/python/framework/dtypes.py:525: FutureWarning: Passing (type, 1) or '1type' as a synonym of type is deprecated; in a future version of numpy, it will be understood as (type, (1,)) / '(1,)type'.\n",
            "  np_resource = np.dtype([(\"resource\", np.ubyte, 1)])\n"
          ],
          "name": "stderr"
        },
        {
          "output_type": "stream",
          "text": [
            "Addition ::  4.0\n",
            "Subtraction ::  -1.0\n",
            "Multiplication ::  3.75\n",
            "Division ::  0.6\n",
            "Remainder ::  1.5\n"
          ],
          "name": "stdout"
        },
        {
          "output_type": "stream",
          "text": [
            "/usr/local/lib/python3.6/dist-packages/tensorboard/compat/tensorflow_stub/dtypes.py:541: FutureWarning: Passing (type, 1) or '1type' as a synonym of type is deprecated; in a future version of numpy, it will be understood as (type, (1,)) / '(1,)type'.\n",
            "  _np_qint8 = np.dtype([(\"qint8\", np.int8, 1)])\n",
            "/usr/local/lib/python3.6/dist-packages/tensorboard/compat/tensorflow_stub/dtypes.py:542: FutureWarning: Passing (type, 1) or '1type' as a synonym of type is deprecated; in a future version of numpy, it will be understood as (type, (1,)) / '(1,)type'.\n",
            "  _np_quint8 = np.dtype([(\"quint8\", np.uint8, 1)])\n",
            "/usr/local/lib/python3.6/dist-packages/tensorboard/compat/tensorflow_stub/dtypes.py:543: FutureWarning: Passing (type, 1) or '1type' as a synonym of type is deprecated; in a future version of numpy, it will be understood as (type, (1,)) / '(1,)type'.\n",
            "  _np_qint16 = np.dtype([(\"qint16\", np.int16, 1)])\n",
            "/usr/local/lib/python3.6/dist-packages/tensorboard/compat/tensorflow_stub/dtypes.py:544: FutureWarning: Passing (type, 1) or '1type' as a synonym of type is deprecated; in a future version of numpy, it will be understood as (type, (1,)) / '(1,)type'.\n",
            "  _np_quint16 = np.dtype([(\"quint16\", np.uint16, 1)])\n",
            "/usr/local/lib/python3.6/dist-packages/tensorboard/compat/tensorflow_stub/dtypes.py:545: FutureWarning: Passing (type, 1) or '1type' as a synonym of type is deprecated; in a future version of numpy, it will be understood as (type, (1,)) / '(1,)type'.\n",
            "  _np_qint32 = np.dtype([(\"qint32\", np.int32, 1)])\n",
            "/usr/local/lib/python3.6/dist-packages/tensorboard/compat/tensorflow_stub/dtypes.py:550: FutureWarning: Passing (type, 1) or '1type' as a synonym of type is deprecated; in a future version of numpy, it will be understood as (type, (1,)) / '(1,)type'.\n",
            "  np_resource = np.dtype([(\"resource\", np.ubyte, 1)])\n"
          ],
          "name": "stderr"
        }
      ]
    },
    {
      "cell_type": "markdown",
      "metadata": {
        "colab_type": "text",
        "id": "-TEjPyv6XgS7"
      },
      "source": [
        "\n",
        "> Summary\n",
        "\n",
        "\n",
        "\n",
        "In this lesson you discovered the TensorFlow Python library for deep learning. You learned:\n",
        "\n",
        "\n",
        "1.   TensorFlow is another efficient numerical library like Theano.\n",
        "2.   Like Theano, deep learning models can be developed directly in TensorFlow if desired.\n",
        "3.   Also like Theano, TensorFlow may be better leveraged by a wrapper library that abstracts the complexity and lower level details.\n"
      ]
    },
    {
      "cell_type": "markdown",
      "metadata": {
        "colab_type": "text",
        "id": "jeNfHeXwc5Rv"
      },
      "source": [
        "\n",
        "## **Chapter 4 - Introduction to Keras**\n",
        "\n"
      ]
    },
    {
      "cell_type": "markdown",
      "metadata": {
        "colab_type": "text",
        "id": "zgWax5-Wc5R4"
      },
      "source": [
        "\n",
        "\n",
        "*   Theano and TensorFlow - two of the top numerical platforms in Python that provide the basis for deep learning research and development - both are very powerful libraries, but can be difficult to use directly for creating deep learning models.\n",
        "*   Keras Python library that provides a clean and convenient way to create a range of deep learning models on top of Theano or TensorFlow.\n",
        "*   a minimalist Python library for deep learning that can run on top of Theano or TensorFlow. \n",
        "*   developed to make developing deep learning models as fast and easy as possible for research and development.\n",
        "*   released under the permissive MIT license. \n",
        "*   Keras was developed and maintained by Francois Chollet, a Google engineer using four guiding principles:\n",
        "    1. Modularity: A model can be understood as a sequence or a graph alone. All the concerns of a deep learning model are discrete components that can be combined in arbitrary ways.\n",
        "    2. Minimalism: The library provides just enough to achieve an outcome, no frills and maximizing readability.\n",
        "    3. Extensibility: New components are intentionally easy to add and use within the frame-work, intended for developers to trial and explore new ideas.\n",
        "    4. Python: No separate model files with custom file formats. Everything is native Python.\n",
        "\n",
        "*   install - pip install keras\n",
        "\n",
        "*   *Theano and TensorFlow Backends for Keras* - Keras is a lightweight API and rather than providing an implementation of the required mathematical operations needed for deep learning it provides a consistent interface to efficient numerical libraries called backends. Assuming you have both Theano and TensorFlow installed, you can configure the backend used by Keras.\n",
        "\n",
        "*   *Build Deep Learning Models with Keras* - The focus of Keras is the idea of a model. \n",
        "    1. Define your model: Create a Sequential model and add configured layers.\n",
        "    2. Compile your model: Specify loss function and optimizers and call the compile() function on the model.\n",
        "    3. Fit your model: Train the model on a sample of data by calling the fit() function on the model.\n",
        "    4. Make predictions: Use the model to generate predictions on new data by calling functions such as evaluate() or predict() on the model.\n",
        "\n",
        "\n",
        "\n",
        "\n",
        "\n",
        "\n"
      ]
    },
    {
      "cell_type": "markdown",
      "metadata": {
        "colab_type": "text",
        "id": "HDkr857Fc5SN"
      },
      "source": [
        "\n",
        "> Summary\n",
        "\n",
        "In this lesson you discovered the Keras Python library for deep learning research and development. You learned:\n",
        "1. Keras wraps both the TensorFlow and Theano libraries, abstracting their capabilities and hiding their complexity.\n",
        "2. Keras is designed for minimalism and modularity allowing you to very quickly define deep learning models.\n",
        "3. Keras deep learning models can be developed using an idiom of defining, compiling and fitting models that can then be evaluated or used to make predictions.\n"
      ]
    },
    {
      "cell_type": "code",
      "metadata": {
        "colab_type": "code",
        "id": "VZHewdVmc5SO",
        "colab": {}
      },
      "source": [
        ""
      ],
      "execution_count": 0,
      "outputs": []
    }
  ]
}